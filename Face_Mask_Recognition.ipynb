{
  "nbformat": 4,
  "nbformat_minor": 0,
  "metadata": {
    "colab": {
      "name": "Face Mask Recognition.ipynb",
      "provenance": [],
      "collapsed_sections": [],
      "authorship_tag": "ABX9TyON70RLiJafHduZPaY33TK0",
      "include_colab_link": true
    },
    "kernelspec": {
      "name": "python3",
      "display_name": "Python 3"
    },
    "language_info": {
      "name": "python"
    },
    "accelerator": "GPU"
  },
  "cells": [
    {
      "cell_type": "markdown",
      "metadata": {
        "id": "view-in-github",
        "colab_type": "text"
      },
      "source": [
        "<a href=\"https://colab.research.google.com/github/OoiXinPeng/Face-Mask-Recognition/blob/main/Face_Mask_Recognition.ipynb\" target=\"_parent\"><img src=\"https://colab.research.google.com/assets/colab-badge.svg\" alt=\"Open In Colab\"/></a>"
      ]
    },
    {
      "cell_type": "markdown",
      "metadata": {
        "id": "xVkAwuP4P1at"
      },
      "source": [
        "# Introduction \n",
        "\n",
        "This is an individual project related to COVID-19 and face recognition. There are 2 objectives for this project:  \n",
        "1. To detect people having their faces masked or not masked.\n",
        "2. To detect faces having their masks correctly worn or incorrectly worn."
      ]
    },
    {
      "cell_type": "code",
      "metadata": {
        "id": "rJBG3Mz_P4Vy"
      },
      "source": [
        ""
      ],
      "execution_count": null,
      "outputs": []
    }
  ]
}