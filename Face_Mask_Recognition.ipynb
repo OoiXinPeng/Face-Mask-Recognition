{
  "nbformat": 4,
  "nbformat_minor": 0,
  "metadata": {
    "colab": {
      "name": "Face Mask Recognition.ipynb",
      "provenance": [],
      "authorship_tag": "ABX9TyNULAoHmRjEKx87jXqCceIr",
      "include_colab_link": true
    },
    "kernelspec": {
      "name": "python3",
      "display_name": "Python 3"
    },
    "language_info": {
      "name": "python"
    },
    "accelerator": "GPU"
  },
  "cells": [
    {
      "cell_type": "markdown",
      "metadata": {
        "id": "view-in-github",
        "colab_type": "text"
      },
      "source": [
        "<a href=\"https://colab.research.google.com/github/OoiXinPeng/Face-Mask-Recognition/blob/main/Face_Mask_Recognition.ipynb\" target=\"_parent\"><img src=\"https://colab.research.google.com/assets/colab-badge.svg\" alt=\"Open In Colab\"/></a>"
      ]
    },
    {
      "cell_type": "code",
      "metadata": {
        "colab": {
          "base_uri": "https://localhost:8080/"
        },
        "id": "PHwoPaGMqbQ2",
        "outputId": "99932294-308a-4d42-a552-b3a70b3afff4"
      },
      "source": [
        "from google.colab import drive\n",
        "drive.mount('/gdrive')"
      ],
      "execution_count": 1,
      "outputs": [
        {
          "output_type": "stream",
          "text": [
            "Drive already mounted at /gdrive; to attempt to forcibly remount, call drive.mount(\"/gdrive\", force_remount=True).\n"
          ],
          "name": "stdout"
        }
      ]
    },
    {
      "cell_type": "code",
      "metadata": {
        "id": "YD-DxTMyqjyN"
      },
      "source": [
        "# /gdrive/MyDrive/Colab Notebooks/SC project/FaceMask Dataset"
      ],
      "execution_count": 2,
      "outputs": []
    },
    {
      "cell_type": "code",
      "metadata": {
        "id": "z1v-2JGmqGkp"
      },
      "source": [
        "import numpy as np\n",
        "import pandas as pd\n",
        "import matplotlib.pyplot as plt\n",
        "import os\n",
        "#import cv2\n",
        "#from google.colab.patches import cv2_imshow\n"
      ],
      "execution_count": 3,
      "outputs": []
    },
    {
      "cell_type": "code",
      "metadata": {
        "id": "pY9gcjFhpUB4"
      },
      "source": [
        "from tensorflow.keras.preprocessing.image import load_img\n",
        "from tensorflow.keras.preprocessing.image import img_to_array\n",
        "from tensorflow.keras.applications.mobilenet_v2 import preprocess_input"
      ],
      "execution_count": 4,
      "outputs": []
    },
    {
      "cell_type": "code",
      "metadata": {
        "colab": {
          "base_uri": "https://localhost:8080/"
        },
        "id": "W2AUpr5UrBKH",
        "outputId": "8daa0899-4424-44d0-c2b8-30e4b3236ac7"
      },
      "source": [
        "main_folder_path = '/gdrive/MyDrive/Colab Notebooks/SC project/FaceMask Dataset/'\n",
        "data_purposes = os.listdir(main_folder_path)\n",
        "data_purposes = sorted(data_purposes)\n",
        "\n",
        "classes = os.listdir(os.path.join(main_folder_path,data_purposes[0]))\n",
        "classes = sorted(classes)\n",
        "\n",
        "labels_dict = {classes[i]:i for i in range(len(classes))}\n",
        "\n",
        "print(data_purposes)\n",
        "print(classes)\n",
        "print(labels_dict)"
      ],
      "execution_count": 5,
      "outputs": [
        {
          "output_type": "stream",
          "text": [
            "['Test', 'Train', 'Validation']\n",
            "['Mask', 'Mask_Chin', 'Mask_Mouth_Chin', 'Mask_Nose_Mouth', 'Without_Mask']\n",
            "{'Mask': 0, 'Mask_Chin': 1, 'Mask_Mouth_Chin': 2, 'Mask_Nose_Mouth': 3, 'Without_Mask': 4}\n"
          ],
          "name": "stdout"
        }
      ]
    },
    {
      "cell_type": "code",
      "metadata": {
        "id": "GqRHuFRfVBau"
      },
      "source": [
        "# face_classifier  = cv2.CascadeClassifier(cv2.data.haarcascades + \"haarcascade_frontalface_default.xml\")"
      ],
      "execution_count": 6,
      "outputs": []
    },
    {
      "cell_type": "code",
      "metadata": {
        "id": "rSQygSLetmTJ"
      },
      "source": [
        "image_size = 224\n",
        "save_path = '/gdrive/MyDrive/Colab Notebooks/SC project/save_folder'\n",
        "# data_file_name = 'data' + '_' + data_purpose + '.npy'\n",
        "# labels_file_name = 'labels' + '_' + data_purpose + '.npy'\n",
        "# os.path.join(save_path,data_file_name), data\n",
        "# os.path.join(save_path,labels_file_name), labels"
      ],
      "execution_count": 6,
      "outputs": []
    },
    {
      "cell_type": "markdown",
      "metadata": {
        "id": "_4MrM4Ka4iDm"
      },
      "source": [
        "Skip this cell if image array has been saved before."
      ]
    },
    {
      "cell_type": "code",
      "metadata": {
        "colab": {
          "base_uri": "https://localhost:8080/"
        },
        "id": "m8sha2aVsCLS",
        "outputId": "1548f234-9ee8-4e9e-c0bd-9cab1a38303d"
      },
      "source": [
        "for data_purpose in data_purposes:\n",
        "  data_purpose_folder_path = os.path.join(main_folder_path,data_purpose)\n",
        "  data = []\n",
        "  labels = []\n",
        "  for clas in classes:\n",
        "    class_folder_path = os.path.join(data_purpose_folder_path,clas)\n",
        "    image_names = os.listdir(class_folder_path)\n",
        "\n",
        "    for image_name in image_names:\n",
        "      image_path = os.path.join(class_folder_path,image_name)\n",
        "      # Load the image and resize it\n",
        "      image = load_img(image_path, target_size=(image_size, image_size))\n",
        "      # Convert image to array\n",
        "      image = img_to_array(image)\n",
        "      # Scale the pixel intensities of image to the range [-1, 1]\n",
        "      image = preprocess_input(image)\n",
        "      data.append(image)\n",
        "    labels.extend([labels_dict[clas]]*len(image_names))\n",
        "  \n",
        "  # Convert the data and labels list to NumPy arrays\n",
        "  data = np.array(data, dtype=\"float32\")\n",
        "  labels = np.array(labels)\n",
        "    \n",
        "  data_file_name = 'data' + '_' + data_purpose + '.npy'\n",
        "  labels_file_name = 'labels' + '_' + data_purpose + '.npy'\n",
        "    \n",
        "  # Save NumPy arrays as files to be reused\n",
        "  np.save(os.path.join(save_path,data_file_name), data)\n",
        "  np.save(os.path.join(save_path,labels_file_name), labels)\n",
        "  print(data_file_name , 'done')"
      ],
      "execution_count": 31,
      "outputs": [
        {
          "output_type": "stream",
          "text": [
            "data_Test.npy done\n",
            "data_Train.npy done\n",
            "data_Validation.npy done\n"
          ],
          "name": "stdout"
        }
      ]
    },
    {
      "cell_type": "code",
      "metadata": {
        "id": "P6Jk9oPu2PEv"
      },
      "source": [
        "import tensorflow as tf\n",
        "from tensorflow import keras\n",
        "from tensorflow.keras import layers #,callbacks\n",
        "from tensorflow.keras.utils import to_categorical\n",
        "from sklearn.metrics import classification_report"
      ],
      "execution_count": 7,
      "outputs": []
    },
    {
      "cell_type": "code",
      "metadata": {
        "id": "1KQRiE_72PGw"
      },
      "source": [
        "# Load preprocessed data\n",
        "save_folder_dir = sorted(os.listdir(save_path))\n",
        "\n",
        "test_X = np.load(os.path.join(save_path,save_folder_dir[0]))\n",
        "train_X = np.load(os.path.join(save_path,save_folder_dir[1]))\n",
        "valid_X = np.load(os.path.join(save_path,save_folder_dir[2]))\n",
        "test_y = np.load(os.path.join(save_path,save_folder_dir[3]))\n",
        "train_y = np.load(os.path.join(save_path,save_folder_dir[4]))\n",
        "valid_y = np.load(os.path.join(save_path,save_folder_dir[5]))"
      ],
      "execution_count": 8,
      "outputs": []
    },
    {
      "cell_type": "code",
      "metadata": {
        "colab": {
          "base_uri": "https://localhost:8080/"
        },
        "id": "TijMDVCw4ZlG",
        "outputId": "5f2ccd9a-1fcf-4c2a-f996-9928884407a7"
      },
      "source": [
        "print(train_X.shape)\n",
        "print(train_y.shape)\n",
        "print(valid_X.shape)\n",
        "print(valid_y.shape)\n",
        "print(test_X.shape)\n",
        "print(test_y.shape)"
      ],
      "execution_count": 11,
      "outputs": [
        {
          "output_type": "stream",
          "text": [
            "(1730, 224, 224, 3)\n",
            "(1730, 5)\n",
            "(568, 224, 224, 3)\n",
            "(568, 5)\n",
            "(580, 224, 224, 3)\n",
            "(580, 5)\n"
          ],
          "name": "stdout"
        }
      ]
    },
    {
      "cell_type": "code",
      "metadata": {
        "id": "F9-vN8pW0YGe"
      },
      "source": [
        "#Counter imbalance classes #1\n",
        "#from imblearn.over_sampling import SMOTE\n",
        "\n",
        "#smote = SMOTE('minority')\n",
        "#train_X_sm, train_y_sm = smote.fit_sample(train_X,train_y)\n",
        "#valid_X_sm, valid_y_sm = smote.fit_sample(valid_X,valid_y)\n"
      ],
      "execution_count": 76,
      "outputs": []
    },
    {
      "cell_type": "code",
      "metadata": {
        "id": "BQwMmspZ1Mzu"
      },
      "source": [
        "##Counter imbalance classes #2 before one-hot encoding\n",
        "#from sklearn.utils import class_weight\n",
        "#class_weight = class_weight.compute_class_weight('balanced', np.unique(train_y), train_y)"
      ],
      "execution_count": 54,
      "outputs": []
    },
    {
      "cell_type": "code",
      "metadata": {
        "id": "RY9X3XZo-nkH"
      },
      "source": [
        "# Apply one-hot encoding on labels\n",
        "train_y = to_categorical(train_y)\n",
        "valid_y = to_categorical(valid_y)\n",
        "test_y = to_categorical(test_y)"
      ],
      "execution_count": 10,
      "outputs": []
    },
    {
      "cell_type": "code",
      "metadata": {
        "id": "_dVOS_czuEAu"
      },
      "source": [
        "# Setup plotting\n",
        "import matplotlib.pyplot as plt\n",
        "\n",
        "plt.style.use('seaborn-whitegrid')\n",
        "# Set Matplotlib defaults\n",
        "plt.rc('figure', autolayout=True)\n",
        "plt.rc('axes', labelweight='bold', labelsize='large',\n",
        "       titleweight='bold', titlesize=18, titlepad=10)"
      ],
      "execution_count": 12,
      "outputs": []
    },
    {
      "cell_type": "code",
      "metadata": {
        "id": "Lvf2VlhQuFsu"
      },
      "source": [
        ""
      ],
      "execution_count": 70,
      "outputs": []
    },
    {
      "cell_type": "code",
      "metadata": {
        "id": "OnFSq8bhHTst"
      },
      "source": [
        "input_shape = train_X[0].shape\n",
        "pretrained_model = tf.keras.applications.VGG16(\n",
        "    weights='imagenet',\n",
        "    include_top=False ,\n",
        "    input_shape=input_shape\n",
        ")\n",
        "pretrained_model.trainable = False"
      ],
      "execution_count": 13,
      "outputs": []
    },
    {
      "cell_type": "code",
      "metadata": {
        "colab": {
          "base_uri": "https://localhost:8080/"
        },
        "id": "mLF2NMqmuFwF",
        "outputId": "6d217cb7-d882-4570-d1fa-96c6e060e95c"
      },
      "source": [
        "# Build model\n",
        "\n",
        "model = keras.Sequential([\n",
        "    pretrained_model,\n",
        "    layers.GlobalAveragePooling2D(),\n",
        "    layers.Dense(len(classes), activation='softmax'),\n",
        "])\n",
        "\n",
        "model.compile(\n",
        "    optimizer='adam',\n",
        "    loss='categorical_crossentropy',\n",
        "    metrics=['accuracy'],\n",
        ")\n",
        "print(model.summary())"
      ],
      "execution_count": 14,
      "outputs": [
        {
          "output_type": "stream",
          "text": [
            "Model: \"sequential\"\n",
            "_________________________________________________________________\n",
            "Layer (type)                 Output Shape              Param #   \n",
            "=================================================================\n",
            "vgg16 (Functional)           (None, 7, 7, 512)         14714688  \n",
            "_________________________________________________________________\n",
            "global_average_pooling2d (Gl (None, 512)               0         \n",
            "_________________________________________________________________\n",
            "dense (Dense)                (None, 5)                 2565      \n",
            "=================================================================\n",
            "Total params: 14,717,253\n",
            "Trainable params: 2,565\n",
            "Non-trainable params: 14,714,688\n",
            "_________________________________________________________________\n",
            "None\n"
          ],
          "name": "stdout"
        }
      ]
    },
    {
      "cell_type": "code",
      "metadata": {
        "id": "dZfUrmzCytP2"
      },
      "source": [
        "#early_stopping = callbacks.EarlyStopping(\n",
        "#     min_delta=0.001, # minimium amount of change to count as an improvement\n",
        "#     patience=20, # how many epochs to wait before stopping\n",
        "#     restore_best_weights=True,\n",
        "# )"
      ],
      "execution_count": null,
      "outputs": []
    },
    {
      "cell_type": "code",
      "metadata": {
        "colab": {
          "base_uri": "https://localhost:8080/",
          "height": 1000
        },
        "id": "wYo3VB8suhvQ",
        "outputId": "70bd6ed0-c9f2-40f9-8cca-77258aded7a2"
      },
      "source": [
        "# fit model\n",
        "history = model.fit(\n",
        "    train_X, train_y,            \n",
        "    validation_data=(valid_X, valid_y),\n",
        "    batch_size= 64, \n",
        "    epochs= 100,\n",
        "    # callbacks=[early_stopping], # put your callbacks in a list\n",
        "    #class_weight = class_weight,\n",
        "    verbose=2,\n",
        ")\n",
        "\n",
        "history_df = pd.DataFrame(history.history)\n",
        "history_df.loc[:, ['loss', 'val_loss']].plot();\n",
        "# need checking\n",
        "history_df.loc[:, ['accuracy', 'val_accuracy']].plot()\n",
        "print(\"Minimum Validation Loss: {}\".format(history_df['val_loss'].min()))\n",
        "print(\"Maximum Validation Accuracy: {}\".format(history_df['val_accuracy'].max()))"
      ],
      "execution_count": 15,
      "outputs": [
        {
          "output_type": "stream",
          "text": [
            "Epoch 1/100\n",
            "28/28 - 31s - loss: 1.2853 - accuracy: 0.5376 - val_loss: 1.1422 - val_accuracy: 0.6849\n",
            "Epoch 2/100\n",
            "28/28 - 9s - loss: 1.0786 - accuracy: 0.7092 - val_loss: 1.0244 - val_accuracy: 0.7148\n",
            "Epoch 3/100\n",
            "28/28 - 9s - loss: 0.9714 - accuracy: 0.7376 - val_loss: 0.9286 - val_accuracy: 0.7817\n",
            "Epoch 4/100\n",
            "28/28 - 9s - loss: 0.8869 - accuracy: 0.8052 - val_loss: 0.8515 - val_accuracy: 0.7993\n",
            "Epoch 5/100\n",
            "28/28 - 9s - loss: 0.8168 - accuracy: 0.8064 - val_loss: 0.7902 - val_accuracy: 0.8644\n",
            "Epoch 6/100\n",
            "28/28 - 9s - loss: 0.7572 - accuracy: 0.8694 - val_loss: 0.7359 - val_accuracy: 0.8521\n",
            "Epoch 7/100\n",
            "28/28 - 9s - loss: 0.7085 - accuracy: 0.8688 - val_loss: 0.6921 - val_accuracy: 0.8644\n",
            "Epoch 8/100\n",
            "28/28 - 9s - loss: 0.6658 - accuracy: 0.8798 - val_loss: 0.6511 - val_accuracy: 0.8891\n",
            "Epoch 9/100\n",
            "28/28 - 9s - loss: 0.6287 - accuracy: 0.8855 - val_loss: 0.6174 - val_accuracy: 0.8908\n",
            "Epoch 10/100\n",
            "28/28 - 9s - loss: 0.5951 - accuracy: 0.8890 - val_loss: 0.5866 - val_accuracy: 0.9032\n",
            "Epoch 11/100\n",
            "28/28 - 9s - loss: 0.5667 - accuracy: 0.8988 - val_loss: 0.5586 - val_accuracy: 0.8961\n",
            "Epoch 12/100\n",
            "28/28 - 9s - loss: 0.5398 - accuracy: 0.8983 - val_loss: 0.5336 - val_accuracy: 0.9032\n",
            "Epoch 13/100\n",
            "28/28 - 9s - loss: 0.5194 - accuracy: 0.8988 - val_loss: 0.5126 - val_accuracy: 0.9137\n",
            "Epoch 14/100\n",
            "28/28 - 9s - loss: 0.4992 - accuracy: 0.9006 - val_loss: 0.4996 - val_accuracy: 0.8979\n",
            "Epoch 15/100\n",
            "28/28 - 9s - loss: 0.4765 - accuracy: 0.9069 - val_loss: 0.4759 - val_accuracy: 0.9049\n",
            "Epoch 16/100\n",
            "28/28 - 9s - loss: 0.4618 - accuracy: 0.9075 - val_loss: 0.4582 - val_accuracy: 0.9085\n",
            "Epoch 17/100\n",
            "28/28 - 9s - loss: 0.4408 - accuracy: 0.9098 - val_loss: 0.4430 - val_accuracy: 0.9155\n",
            "Epoch 18/100\n",
            "28/28 - 10s - loss: 0.4261 - accuracy: 0.9069 - val_loss: 0.4295 - val_accuracy: 0.9173\n",
            "Epoch 19/100\n",
            "28/28 - 10s - loss: 0.4120 - accuracy: 0.9139 - val_loss: 0.4167 - val_accuracy: 0.9173\n",
            "Epoch 20/100\n",
            "28/28 - 10s - loss: 0.3991 - accuracy: 0.9145 - val_loss: 0.4044 - val_accuracy: 0.9190\n",
            "Epoch 21/100\n",
            "28/28 - 10s - loss: 0.3925 - accuracy: 0.9162 - val_loss: 0.3943 - val_accuracy: 0.9190\n",
            "Epoch 22/100\n",
            "28/28 - 10s - loss: 0.3767 - accuracy: 0.9127 - val_loss: 0.3823 - val_accuracy: 0.9225\n",
            "Epoch 23/100\n",
            "28/28 - 10s - loss: 0.3656 - accuracy: 0.9156 - val_loss: 0.3731 - val_accuracy: 0.9225\n",
            "Epoch 24/100\n",
            "28/28 - 10s - loss: 0.3555 - accuracy: 0.9179 - val_loss: 0.3621 - val_accuracy: 0.9243\n",
            "Epoch 25/100\n",
            "28/28 - 10s - loss: 0.3444 - accuracy: 0.9197 - val_loss: 0.3530 - val_accuracy: 0.9243\n",
            "Epoch 26/100\n",
            "28/28 - 10s - loss: 0.3357 - accuracy: 0.9225 - val_loss: 0.3462 - val_accuracy: 0.9243\n",
            "Epoch 27/100\n",
            "28/28 - 10s - loss: 0.3266 - accuracy: 0.9225 - val_loss: 0.3361 - val_accuracy: 0.9278\n",
            "Epoch 28/100\n",
            "28/28 - 10s - loss: 0.3201 - accuracy: 0.9214 - val_loss: 0.3289 - val_accuracy: 0.9296\n",
            "Epoch 29/100\n",
            "28/28 - 10s - loss: 0.3118 - accuracy: 0.9254 - val_loss: 0.3216 - val_accuracy: 0.9296\n",
            "Epoch 30/100\n",
            "28/28 - 10s - loss: 0.3031 - accuracy: 0.9231 - val_loss: 0.3147 - val_accuracy: 0.9313\n",
            "Epoch 31/100\n",
            "28/28 - 10s - loss: 0.2953 - accuracy: 0.9277 - val_loss: 0.3068 - val_accuracy: 0.9349\n",
            "Epoch 32/100\n",
            "28/28 - 10s - loss: 0.2905 - accuracy: 0.9266 - val_loss: 0.3000 - val_accuracy: 0.9331\n",
            "Epoch 33/100\n",
            "28/28 - 10s - loss: 0.2858 - accuracy: 0.9324 - val_loss: 0.2930 - val_accuracy: 0.9331\n",
            "Epoch 34/100\n",
            "28/28 - 10s - loss: 0.2771 - accuracy: 0.9341 - val_loss: 0.2881 - val_accuracy: 0.9366\n",
            "Epoch 35/100\n",
            "28/28 - 10s - loss: 0.2682 - accuracy: 0.9329 - val_loss: 0.2819 - val_accuracy: 0.9366\n",
            "Epoch 36/100\n",
            "28/28 - 10s - loss: 0.2624 - accuracy: 0.9410 - val_loss: 0.2774 - val_accuracy: 0.9384\n",
            "Epoch 37/100\n",
            "28/28 - 10s - loss: 0.2573 - accuracy: 0.9416 - val_loss: 0.2711 - val_accuracy: 0.9384\n",
            "Epoch 38/100\n",
            "28/28 - 10s - loss: 0.2510 - accuracy: 0.9439 - val_loss: 0.2661 - val_accuracy: 0.9401\n",
            "Epoch 39/100\n",
            "28/28 - 10s - loss: 0.2466 - accuracy: 0.9434 - val_loss: 0.2613 - val_accuracy: 0.9401\n",
            "Epoch 40/100\n",
            "28/28 - 10s - loss: 0.2412 - accuracy: 0.9451 - val_loss: 0.2576 - val_accuracy: 0.9401\n",
            "Epoch 41/100\n",
            "28/28 - 10s - loss: 0.2354 - accuracy: 0.9462 - val_loss: 0.2526 - val_accuracy: 0.9419\n",
            "Epoch 42/100\n",
            "28/28 - 10s - loss: 0.2312 - accuracy: 0.9491 - val_loss: 0.2479 - val_accuracy: 0.9489\n",
            "Epoch 43/100\n",
            "28/28 - 10s - loss: 0.2275 - accuracy: 0.9428 - val_loss: 0.2436 - val_accuracy: 0.9472\n",
            "Epoch 44/100\n",
            "28/28 - 10s - loss: 0.2279 - accuracy: 0.9561 - val_loss: 0.2421 - val_accuracy: 0.9472\n",
            "Epoch 45/100\n",
            "28/28 - 10s - loss: 0.2187 - accuracy: 0.9503 - val_loss: 0.2358 - val_accuracy: 0.9472\n",
            "Epoch 46/100\n",
            "28/28 - 10s - loss: 0.2142 - accuracy: 0.9497 - val_loss: 0.2320 - val_accuracy: 0.9507\n",
            "Epoch 47/100\n",
            "28/28 - 10s - loss: 0.2109 - accuracy: 0.9543 - val_loss: 0.2333 - val_accuracy: 0.9401\n",
            "Epoch 48/100\n",
            "28/28 - 10s - loss: 0.2065 - accuracy: 0.9561 - val_loss: 0.2243 - val_accuracy: 0.9542\n",
            "Epoch 49/100\n",
            "28/28 - 10s - loss: 0.2023 - accuracy: 0.9584 - val_loss: 0.2213 - val_accuracy: 0.9525\n",
            "Epoch 50/100\n",
            "28/28 - 10s - loss: 0.1991 - accuracy: 0.9561 - val_loss: 0.2180 - val_accuracy: 0.9542\n",
            "Epoch 51/100\n",
            "28/28 - 10s - loss: 0.1945 - accuracy: 0.9561 - val_loss: 0.2145 - val_accuracy: 0.9577\n",
            "Epoch 52/100\n",
            "28/28 - 10s - loss: 0.1959 - accuracy: 0.9676 - val_loss: 0.2122 - val_accuracy: 0.9577\n",
            "Epoch 53/100\n",
            "28/28 - 10s - loss: 0.1899 - accuracy: 0.9566 - val_loss: 0.2085 - val_accuracy: 0.9577\n",
            "Epoch 54/100\n",
            "28/28 - 10s - loss: 0.1858 - accuracy: 0.9659 - val_loss: 0.2050 - val_accuracy: 0.9613\n",
            "Epoch 55/100\n",
            "28/28 - 10s - loss: 0.1844 - accuracy: 0.9647 - val_loss: 0.2028 - val_accuracy: 0.9613\n",
            "Epoch 56/100\n",
            "28/28 - 10s - loss: 0.1787 - accuracy: 0.9642 - val_loss: 0.1997 - val_accuracy: 0.9613\n",
            "Epoch 57/100\n",
            "28/28 - 10s - loss: 0.1753 - accuracy: 0.9624 - val_loss: 0.1999 - val_accuracy: 0.9542\n",
            "Epoch 58/100\n",
            "28/28 - 10s - loss: 0.1734 - accuracy: 0.9671 - val_loss: 0.1949 - val_accuracy: 0.9595\n",
            "Epoch 59/100\n",
            "28/28 - 10s - loss: 0.1709 - accuracy: 0.9630 - val_loss: 0.1931 - val_accuracy: 0.9577\n",
            "Epoch 60/100\n",
            "28/28 - 10s - loss: 0.1675 - accuracy: 0.9705 - val_loss: 0.1896 - val_accuracy: 0.9613\n",
            "Epoch 61/100\n",
            "28/28 - 10s - loss: 0.1654 - accuracy: 0.9659 - val_loss: 0.1886 - val_accuracy: 0.9595\n",
            "Epoch 62/100\n",
            "28/28 - 10s - loss: 0.1625 - accuracy: 0.9711 - val_loss: 0.1852 - val_accuracy: 0.9613\n",
            "Epoch 63/100\n",
            "28/28 - 10s - loss: 0.1597 - accuracy: 0.9711 - val_loss: 0.1833 - val_accuracy: 0.9630\n",
            "Epoch 64/100\n",
            "28/28 - 10s - loss: 0.1619 - accuracy: 0.9780 - val_loss: 0.1810 - val_accuracy: 0.9630\n",
            "Epoch 65/100\n",
            "28/28 - 10s - loss: 0.1556 - accuracy: 0.9705 - val_loss: 0.1788 - val_accuracy: 0.9613\n",
            "Epoch 66/100\n",
            "28/28 - 10s - loss: 0.1527 - accuracy: 0.9740 - val_loss: 0.1771 - val_accuracy: 0.9630\n",
            "Epoch 67/100\n",
            "28/28 - 10s - loss: 0.1507 - accuracy: 0.9734 - val_loss: 0.1744 - val_accuracy: 0.9630\n",
            "Epoch 68/100\n",
            "28/28 - 10s - loss: 0.1487 - accuracy: 0.9751 - val_loss: 0.1727 - val_accuracy: 0.9630\n",
            "Epoch 69/100\n",
            "28/28 - 10s - loss: 0.1468 - accuracy: 0.9769 - val_loss: 0.1708 - val_accuracy: 0.9648\n",
            "Epoch 70/100\n",
            "28/28 - 10s - loss: 0.1443 - accuracy: 0.9734 - val_loss: 0.1689 - val_accuracy: 0.9648\n",
            "Epoch 71/100\n",
            "28/28 - 10s - loss: 0.1426 - accuracy: 0.9786 - val_loss: 0.1667 - val_accuracy: 0.9648\n",
            "Epoch 72/100\n",
            "28/28 - 10s - loss: 0.1405 - accuracy: 0.9746 - val_loss: 0.1662 - val_accuracy: 0.9630\n",
            "Epoch 73/100\n",
            "28/28 - 10s - loss: 0.1382 - accuracy: 0.9769 - val_loss: 0.1647 - val_accuracy: 0.9630\n",
            "Epoch 74/100\n",
            "28/28 - 10s - loss: 0.1367 - accuracy: 0.9769 - val_loss: 0.1624 - val_accuracy: 0.9648\n",
            "Epoch 75/100\n",
            "28/28 - 10s - loss: 0.1348 - accuracy: 0.9775 - val_loss: 0.1613 - val_accuracy: 0.9630\n",
            "Epoch 76/100\n",
            "28/28 - 10s - loss: 0.1330 - accuracy: 0.9786 - val_loss: 0.1588 - val_accuracy: 0.9630\n",
            "Epoch 77/100\n",
            "28/28 - 10s - loss: 0.1310 - accuracy: 0.9786 - val_loss: 0.1584 - val_accuracy: 0.9630\n",
            "Epoch 78/100\n",
            "28/28 - 10s - loss: 0.1309 - accuracy: 0.9775 - val_loss: 0.1558 - val_accuracy: 0.9630\n",
            "Epoch 79/100\n",
            "28/28 - 10s - loss: 0.1274 - accuracy: 0.9792 - val_loss: 0.1543 - val_accuracy: 0.9648\n",
            "Epoch 80/100\n",
            "28/28 - 10s - loss: 0.1254 - accuracy: 0.9803 - val_loss: 0.1530 - val_accuracy: 0.9648\n",
            "Epoch 81/100\n",
            "28/28 - 10s - loss: 0.1255 - accuracy: 0.9844 - val_loss: 0.1514 - val_accuracy: 0.9648\n",
            "Epoch 82/100\n",
            "28/28 - 10s - loss: 0.1223 - accuracy: 0.9786 - val_loss: 0.1508 - val_accuracy: 0.9648\n",
            "Epoch 83/100\n",
            "28/28 - 10s - loss: 0.1215 - accuracy: 0.9786 - val_loss: 0.1486 - val_accuracy: 0.9665\n",
            "Epoch 84/100\n",
            "28/28 - 10s - loss: 0.1191 - accuracy: 0.9821 - val_loss: 0.1475 - val_accuracy: 0.9648\n",
            "Epoch 85/100\n",
            "28/28 - 10s - loss: 0.1179 - accuracy: 0.9821 - val_loss: 0.1458 - val_accuracy: 0.9665\n",
            "Epoch 86/100\n",
            "28/28 - 10s - loss: 0.1168 - accuracy: 0.9821 - val_loss: 0.1459 - val_accuracy: 0.9630\n",
            "Epoch 87/100\n",
            "28/28 - 10s - loss: 0.1150 - accuracy: 0.9855 - val_loss: 0.1434 - val_accuracy: 0.9683\n",
            "Epoch 88/100\n",
            "28/28 - 10s - loss: 0.1138 - accuracy: 0.9809 - val_loss: 0.1426 - val_accuracy: 0.9665\n",
            "Epoch 89/100\n",
            "28/28 - 10s - loss: 0.1121 - accuracy: 0.9827 - val_loss: 0.1410 - val_accuracy: 0.9683\n",
            "Epoch 90/100\n",
            "28/28 - 10s - loss: 0.1106 - accuracy: 0.9850 - val_loss: 0.1396 - val_accuracy: 0.9683\n",
            "Epoch 91/100\n",
            "28/28 - 10s - loss: 0.1090 - accuracy: 0.9850 - val_loss: 0.1391 - val_accuracy: 0.9665\n",
            "Epoch 92/100\n",
            "28/28 - 10s - loss: 0.1078 - accuracy: 0.9827 - val_loss: 0.1374 - val_accuracy: 0.9683\n",
            "Epoch 93/100\n",
            "28/28 - 10s - loss: 0.1068 - accuracy: 0.9867 - val_loss: 0.1367 - val_accuracy: 0.9683\n",
            "Epoch 94/100\n",
            "28/28 - 10s - loss: 0.1062 - accuracy: 0.9850 - val_loss: 0.1365 - val_accuracy: 0.9683\n",
            "Epoch 95/100\n",
            "28/28 - 10s - loss: 0.1079 - accuracy: 0.9879 - val_loss: 0.1340 - val_accuracy: 0.9701\n",
            "Epoch 96/100\n",
            "28/28 - 10s - loss: 0.1050 - accuracy: 0.9890 - val_loss: 0.1328 - val_accuracy: 0.9701\n",
            "Epoch 97/100\n",
            "28/28 - 10s - loss: 0.1014 - accuracy: 0.9884 - val_loss: 0.1321 - val_accuracy: 0.9701\n",
            "Epoch 98/100\n",
            "28/28 - 10s - loss: 0.1004 - accuracy: 0.9861 - val_loss: 0.1318 - val_accuracy: 0.9683\n",
            "Epoch 99/100\n",
            "28/28 - 10s - loss: 0.1001 - accuracy: 0.9844 - val_loss: 0.1300 - val_accuracy: 0.9683\n",
            "Epoch 100/100\n",
            "28/28 - 10s - loss: 0.0980 - accuracy: 0.9873 - val_loss: 0.1298 - val_accuracy: 0.9683\n",
            "Minimum Validation Loss: 0.12975144386291504\n",
            "Maximum Validation Accuracy: 0.9700704216957092\n"
          ],
          "name": "stdout"
        },
        {
          "output_type": "display_data",
          "data": {
            "image/png": "[encoded data removed]",
            "text/plain": [
              "<Figure size 432x288 with 1 Axes>"
            ]
          },
          "metadata": {
            "tags": []
          }
        },
        {
          "output_type": "display_data",
          "data": {
            "image/png": "[encoded data removed]",
            "text/plain": [
              "<Figure size 432x288 with 1 Axes>"
            ]
          },
          "metadata": {
            "tags": []
          }
        }
      ]
    },
    {
      "cell_type": "code",
      "metadata": {
        "colab": {
          "base_uri": "https://localhost:8080/"
        },
        "id": "NjupiT_N7hJN",
        "outputId": "27abecba-8d19-4690-f427-f03cb4fa81b1"
      },
      "source": [
        "print(model.evaluate(test_X,test_y))"
      ],
      "execution_count": 16,
      "outputs": [
        {
          "output_type": "stream",
          "text": [
            "19/19 [==============================] - 10s 208ms/step - loss: 0.1637 - accuracy: 0.9586\n",
            "[0.16368460655212402, 0.9586206674575806]\n"
          ],
          "name": "stdout"
        }
      ]
    },
    {
      "cell_type": "code",
      "metadata": {
        "id": "qhyTiYpFOQyJ"
      },
      "source": [
        "from sklearn.metrics import confusion_matrix\n",
        "predict_y = model.predict(test_X)"
      ],
      "execution_count": 17,
      "outputs": []
    },
    {
      "cell_type": "code",
      "metadata": {
        "id": "0_dyadTHW2il"
      },
      "source": [
        "predict_y_merge = np.argmax(predict_y,axis=1)\n",
        "test_y_merge = np.argmax(test_y,axis=1)"
      ],
      "execution_count": 18,
      "outputs": []
    },
    {
      "cell_type": "code",
      "metadata": {
        "colab": {
          "base_uri": "https://localhost:8080/"
        },
        "id": "2iLxHR3ZmYu2",
        "outputId": "08819f7e-1a15-4d13-f667-b1badc073386"
      },
      "source": [
        "print(classification_report(test_y_merge, predict_y_merge, target_names=classes))"
      ],
      "execution_count": 19,
      "outputs": [
        {
          "output_type": "stream",
          "text": [
            "                 precision    recall  f1-score   support\n",
            "\n",
            "           Mask       0.94      0.97      0.96       190\n",
            "      Mask_Chin       1.00      0.50      0.67        12\n",
            "Mask_Mouth_Chin       0.93      0.99      0.96       154\n",
            "Mask_Nose_Mouth       0.93      0.58      0.72        24\n",
            "   Without_Mask       0.99      0.99      0.99       200\n",
            "\n",
            "       accuracy                           0.96       580\n",
            "      macro avg       0.96      0.81      0.86       580\n",
            "   weighted avg       0.96      0.96      0.96       580\n",
            "\n"
          ],
          "name": "stdout"
        }
      ]
    },
    {
      "cell_type": "code",
      "metadata": {
        "id": "PaI7Y5TugkVI"
      },
      "source": [
        "# Credit to https://www.kaggle.com/grfiv4/plot-a-confusion-matrix\n",
        "def plot_confusion_matrix(cm,\n",
        "                          target_names,\n",
        "                          title='Confusion matrix',\n",
        "                          cmap=None,\n",
        "                          normalize=True):\n",
        "    \"\"\"\n",
        "    given a sklearn confusion matrix (cm), make a nice plot\n",
        "\n",
        "    Arguments\n",
        "    ---------\n",
        "    cm:           confusion matrix from sklearn.metrics.confusion_matrix\n",
        "\n",
        "    target_names: given classification classes such as [0, 1, 2]\n",
        "                  the class names, for example: ['high', 'medium', 'low']\n",
        "\n",
        "    title:        the text to display at the top of the matrix\n",
        "\n",
        "    cmap:         the gradient of the values displayed from matplotlib.pyplot.cm\n",
        "                  see http://matplotlib.org/examples/color/colormaps_reference.html\n",
        "                  plt.get_cmap('jet') or plt.cm.Blues\n",
        "\n",
        "    normalize:    If False, plot the raw numbers\n",
        "                  If True, plot the proportions\n",
        "\n",
        "    Usage\n",
        "    -----\n",
        "    plot_confusion_matrix(cm           = cm,                  # confusion matrix created by\n",
        "                                                              # sklearn.metrics.confusion_matrix\n",
        "                          normalize    = True,                # show proportions\n",
        "                          target_names = y_labels_vals,       # list of names of the classes\n",
        "                          title        = best_estimator_name) # title of graph\n",
        "\n",
        "    Citiation\n",
        "    ---------\n",
        "    http://scikit-learn.org/stable/auto_examples/model_selection/plot_confusion_matrix.html\n",
        "\n",
        "    \"\"\"\n",
        "    import matplotlib.pyplot as plt\n",
        "    import numpy as np\n",
        "    import itertools\n",
        "\n",
        "    accuracy = np.trace(cm) / float(np.sum(cm))\n",
        "    misclass = 1 - accuracy\n",
        "\n",
        "\n",
        "    if cmap is None:\n",
        "        cmap = plt.get_cmap('Blues')\n",
        "\n",
        "    plt.figure(figsize=(8, 6))\n",
        "    plt.imshow(cm, interpolation='nearest', cmap=cmap)\n",
        "    plt.title(title)\n",
        "    plt.colorbar()\n",
        "\n",
        "    if target_names is not None:\n",
        "        tick_marks = np.arange(len(target_names))\n",
        "        plt.xticks(tick_marks, target_names, rotation=45)\n",
        "        plt.yticks(tick_marks, target_names)\n",
        "\n",
        "    if normalize:\n",
        "        cm = cm.astype('float') / cm.sum(axis=1)[:, np.newaxis]\n",
        "\n",
        "\n",
        "    thresh = cm.max() / 1.5 if normalize else cm.max() / 2\n",
        "    for i, j in itertools.product(range(cm.shape[0]), range(cm.shape[1])):\n",
        "        if normalize:\n",
        "            plt.text(j, i, \"{:0.4f}\".format(cm[i, j]),\n",
        "                     horizontalalignment=\"center\",\n",
        "                     color=\"white\" if cm[i, j] > thresh else \"black\")\n",
        "        else:\n",
        "            plt.text(j, i, \"{:,}\".format(cm[i, j]),\n",
        "                     horizontalalignment=\"center\",\n",
        "                     color=\"white\" if cm[i, j] > thresh else \"black\")\n",
        "\n",
        "    #xlabel = 'Predicted label\\n accuracy={:0.4f}; misclass={:0.4f}'.format(accuracy, misclass)\n",
        "\n",
        "    plt.tight_layout()\n",
        "    plt.ylabel('True label')\n",
        "    plt.xlabel('Predicted label\\n accuracy={:0.4f}; misclass={:0.4f}'.format(accuracy, misclass))\n",
        "    #plt.xlabel(xlabel)\n",
        "    plt.show()"
      ],
      "execution_count": 20,
      "outputs": []
    },
    {
      "cell_type": "code",
      "metadata": {
        "colab": {
          "base_uri": "https://localhost:8080/",
          "height": 441
        },
        "id": "Soh-D_n-gAwr",
        "outputId": "99377336-c33b-4fad-f81a-562a8c30e1b5"
      },
      "source": [
        "cm = confusion_matrix(test_y_merge,predict_y_merge)\n",
        "plot_confusion_matrix(\n",
        "    cm=cm, \n",
        "    normalize=True,\n",
        "    target_names= classes, \n",
        "    title='Confusion matrix',          \n",
        ")"
      ],
      "execution_count": 21,
      "outputs": [
        {
          "output_type": "display_data",
          "data": {
            "image/png": "[encoded data removed]",
            "text/plain": [
              "<Figure size 576x432 with 2 Axes>"
            ]
          },
          "metadata": {
            "tags": []
          }
        }
      ]
    },
    {
      "cell_type": "code",
      "metadata": {
        "colab": {
          "base_uri": "https://localhost:8080/"
        },
        "id": "2EaYcwGAkkja",
        "outputId": "da80581e-40c9-4393-a8dd-028ff934d6fc"
      },
      "source": [
        "model.save(save_path)"
      ],
      "execution_count": 23,
      "outputs": [
        {
          "output_type": "stream",
          "text": [
            "INFO:tensorflow:Assets written to: /gdrive/MyDrive/Colab Notebooks/SC project/save_folder/assets\n"
          ],
          "name": "stdout"
        }
      ]
    },
    {
      "cell_type": "code",
      "metadata": {
        "id": "baEfVwdtu25C"
      },
      "source": [
        "# model = keras.models.load_model('path/to/location')"
      ],
      "execution_count": null,
      "outputs": []
    },
    {
      "cell_type": "code",
      "metadata": {
        "id": "2SWiN8WXvMK7"
      },
      "source": [
        ""
      ],
      "execution_count": null,
      "outputs": []
    }
  ]
}